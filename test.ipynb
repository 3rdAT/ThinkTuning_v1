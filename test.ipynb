{
 "cells": [
  {
   "cell_type": "code",
   "execution_count": 1,
   "metadata": {},
   "outputs": [],
   "source": [
    "from torch.nn.utils.rnn import pack_padded_sequence\n",
    "import torch"
   ]
  },
  {
   "cell_type": "code",
   "execution_count": 2,
   "metadata": {},
   "outputs": [],
   "source": [
    "def pack_input_ids(input_ids, max_length=32):\n",
    "    \"\"\"\n",
    "    Pack input_ids into batches of size max_length.\n",
    "    \"\"\"\n",
    "    packed_inputs = []\n",
    "    attention_masks = []\n",
    "    current_batch = []\n",
    "    current_attention_mask = []\n",
    "    current_length = 0\n",
    "    current_attention_mask_no = 1\n",
    "\n",
    "    for i, ids in enumerate(input_ids):\n",
    "        ids_length = len(ids)\n",
    "\n",
    "        if current_length + ids_length > max_length:\n",
    "            # Calculate how many ids can be added to the current batch\n",
    "            ids_to_add = max_length - current_length\n",
    "            current_batch += ids[:ids_to_add]\n",
    "            current_attention_mask += [current_attention_mask_no] * ids_length\n",
    "            packed_inputs.append(torch.tensor(current_batch))\n",
    "            attention_masks.append(torch.tensor(current_attention_mask))\n",
    "            \n",
    "            # Start a new batch\n",
    "            current_batch = []\n",
    "            current_attention_mask = []\n",
    "            current_length = 0\n",
    "            current_attention_mask_no = 1\n",
    "        else:\n",
    "            # Add to the current batch\n",
    "            current_batch += ids\n",
    "            current_length += ids_length\n",
    "            current_attention_mask += [current_attention_mask_no] * ids_length \n",
    "            current_attention_mask_no += 1\n",
    "\n",
    "    # Add the last batch\n",
    "    if current_batch:\n",
    "        packed_inputs.append(torch.tensor(current_batch))\n",
    "        attention_masks.append(torch.tensor(current_attention_mask))\n",
    "\n",
    "    return packed_inputs, attention_masks\n"
   ]
  },
  {
   "cell_type": "code",
   "execution_count": 3,
   "metadata": {},
   "outputs": [],
   "source": [
    "prompts = [\n",
    "    [101, 1045, 2293, 2026, 2171, 102],  # Example prompt 1 token ids\n",
    "    [101, 1045, 2572, 2293, 102],         # Example prompt 2 token ids\n",
    "    [101, 1045, 2293, 2026, 2171, 100, 102]  # Example prompt 3 token ids\n",
    "]\n",
    "\n"
   ]
  },
  {
   "cell_type": "code",
   "execution_count": 4,
   "metadata": {},
   "outputs": [],
   "source": [
    "packed_prompts, attention_mask = pack_input_ids(prompts, max_length=10)"
   ]
  },
  {
   "cell_type": "code",
   "execution_count": 5,
   "metadata": {},
   "outputs": [
    {
     "data": {
      "text/plain": [
       "[tensor([ 101, 1045, 2293, 2026, 2171,  102,  101, 1045, 2572, 2293]),\n",
       " tensor([ 101, 1045, 2293, 2026, 2171,  100,  102])]"
      ]
     },
     "execution_count": 5,
     "metadata": {},
     "output_type": "execute_result"
    }
   ],
   "source": [
    "packed_prompts"
   ]
  },
  {
   "cell_type": "code",
   "execution_count": 6,
   "metadata": {},
   "outputs": [
    {
     "data": {
      "text/plain": [
       "[tensor([1, 1, 1, 1, 1, 1, 2, 2, 2, 2, 2]), tensor([1, 1, 1, 1, 1, 1, 1])]"
      ]
     },
     "execution_count": 6,
     "metadata": {},
     "output_type": "execute_result"
    }
   ],
   "source": [
    "attention_mask"
   ]
  },
  {
   "cell_type": "code",
   "execution_count": 7,
   "metadata": {},
   "outputs": [
    {
     "name": "stderr",
     "output_type": "stream",
     "text": [
      "/home/nkusumba/.conda/envs/ilt/lib/python3.12/site-packages/tqdm/auto.py:21: TqdmWarning: IProgress not found. Please update jupyter and ipywidgets. See https://ipywidgets.readthedocs.io/en/stable/user_install.html\n",
      "  from .autonotebook import tqdm as notebook_tqdm\n"
     ]
    }
   ],
   "source": [
    "from transformers import AutoTokenizer"
   ]
  },
  {
   "cell_type": "code",
   "execution_count": 8,
   "metadata": {},
   "outputs": [],
   "source": [
    "tokenizer = AutoTokenizer.from_pretrained('meta-llama/Llama-2-7b-hf')\n",
    "tokenizer.pad_token_id=tokenizer.eos_token_id"
   ]
  },
  {
   "cell_type": "code",
   "execution_count": 9,
   "metadata": {},
   "outputs": [],
   "source": [
    "packed_prompts = torch.nn.utils.rnn.pad_sequence(packed_prompts, batch_first=True, padding_value=tokenizer.pad_token_id)"
   ]
  },
  {
   "cell_type": "code",
   "execution_count": 10,
   "metadata": {},
   "outputs": [],
   "source": [
    "attention_mask = torch.nn.utils.rnn.pad_sequence(attention_mask, batch_first=True, padding_value=0)"
   ]
  },
  {
   "cell_type": "code",
   "execution_count": 11,
   "metadata": {},
   "outputs": [
    {
     "data": {
      "text/plain": [
       "tensor([[ 101, 1045, 2293, 2026, 2171,  102,  101, 1045, 2572, 2293],\n",
       "        [ 101, 1045, 2293, 2026, 2171,  100,  102,    2,    2,    2]])"
      ]
     },
     "execution_count": 11,
     "metadata": {},
     "output_type": "execute_result"
    }
   ],
   "source": [
    "packed_prompts"
   ]
  },
  {
   "cell_type": "code",
   "execution_count": 12,
   "metadata": {},
   "outputs": [
    {
     "data": {
      "text/plain": [
       "tensor([[1, 1, 1, 1, 1, 1, 2, 2, 2, 2, 2],\n",
       "        [1, 1, 1, 1, 1, 1, 1, 0, 0, 0, 0]])"
      ]
     },
     "execution_count": 12,
     "metadata": {},
     "output_type": "execute_result"
    }
   ],
   "source": [
    "attention_mask"
   ]
  },
  {
   "cell_type": "code",
   "execution_count": 13,
   "metadata": {},
   "outputs": [
    {
     "data": {
      "text/plain": [
       "LlamaTokenizerFast(name_or_path='meta-llama/Llama-2-7b-hf', vocab_size=32000, model_max_length=1000000000000000019884624838656, is_fast=True, padding_side='right', truncation_side='right', special_tokens={'bos_token': '<s>', 'eos_token': '</s>', 'unk_token': '<unk>', 'pad_token': '</s>'}, clean_up_tokenization_spaces=False),  added_tokens_decoder={\n",
       "\t0: AddedToken(\"<unk>\", rstrip=False, lstrip=False, single_word=False, normalized=False, special=True),\n",
       "\t1: AddedToken(\"<s>\", rstrip=False, lstrip=False, single_word=False, normalized=False, special=True),\n",
       "\t2: AddedToken(\"</s>\", rstrip=False, lstrip=False, single_word=False, normalized=False, special=True),\n",
       "}"
      ]
     },
     "execution_count": 13,
     "metadata": {},
     "output_type": "execute_result"
    }
   ],
   "source": [
    "tokenizer"
   ]
  },
  {
   "cell_type": "code",
   "execution_count": 1,
   "metadata": {},
   "outputs": [],
   "source": [
    "import torch"
   ]
  },
  {
   "cell_type": "code",
   "execution_count": 2,
   "metadata": {},
   "outputs": [],
   "source": [
    "a = torch.ones([1, 7])\n",
    "b = torch.ones([1, 7])\n",
    "c = torch.ones([1, 84])"
   ]
  },
  {
   "cell_type": "code",
   "execution_count": 3,
   "metadata": {},
   "outputs": [],
   "source": [
    "d = torch.cat([a, b, c], dim=-1)"
   ]
  },
  {
   "cell_type": "code",
   "execution_count": 4,
   "metadata": {},
   "outputs": [
    {
     "data": {
      "text/plain": [
       "tensor([[1., 1., 1., 1., 1., 1., 1., 1., 1., 1., 1., 1., 1., 1., 1., 1., 1., 1.,\n",
       "         1., 1., 1., 1., 1., 1., 1., 1., 1., 1., 1., 1., 1., 1., 1., 1., 1., 1.,\n",
       "         1., 1., 1., 1., 1., 1., 1., 1., 1., 1., 1., 1., 1., 1., 1., 1., 1., 1.,\n",
       "         1., 1., 1., 1., 1., 1., 1., 1., 1., 1., 1., 1., 1., 1., 1., 1., 1., 1.,\n",
       "         1., 1., 1., 1., 1., 1., 1., 1., 1., 1., 1., 1., 1., 1., 1., 1., 1., 1.,\n",
       "         1., 1., 1., 1., 1., 1., 1., 1.]])"
      ]
     },
     "execution_count": 4,
     "metadata": {},
     "output_type": "execute_result"
    }
   ],
   "source": [
    "d"
   ]
  },
  {
   "cell_type": "code",
   "execution_count": 2,
   "metadata": {},
   "outputs": [],
   "source": [
    "import torch"
   ]
  },
  {
   "cell_type": "code",
   "execution_count": 3,
   "metadata": {},
   "outputs": [],
   "source": [
    "att_mask = torch.ones([2, 7])\n",
    "att_mask[0][2] = 0"
   ]
  },
  {
   "cell_type": "code",
   "execution_count": 4,
   "metadata": {},
   "outputs": [
    {
     "data": {
      "text/plain": [
       "tensor([[1., 1., 0., 1., 1., 1., 1.],\n",
       "        [1., 1., 1., 1., 1., 1., 1.]])"
      ]
     },
     "execution_count": 4,
     "metadata": {},
     "output_type": "execute_result"
    }
   ],
   "source": [
    "att_mask"
   ]
  },
  {
   "cell_type": "code",
   "execution_count": 9,
   "metadata": {},
   "outputs": [],
   "source": [
    "unique_mask_values = torch.unique(att_mask)"
   ]
  },
  {
   "cell_type": "code",
   "execution_count": 10,
   "metadata": {},
   "outputs": [
    {
     "data": {
      "text/plain": [
       "tensor([0., 1.])"
      ]
     },
     "execution_count": 10,
     "metadata": {},
     "output_type": "execute_result"
    }
   ],
   "source": [
    "unique_mask_values"
   ]
  },
  {
   "cell_type": "code",
   "execution_count": 15,
   "metadata": {},
   "outputs": [
    {
     "name": "stdout",
     "output_type": "stream",
     "text": [
      "torch.Size([2, 1, 5, 5])\n",
      "tensor([[[[1., 0., 0., 0., 0.],\n",
      "          [1., 1., 0., 0., 0.],\n",
      "          [0., 0., 0., 0., 0.],\n",
      "          [0., 0., 0., 1., 0.],\n",
      "          [0., 0., 0., 0., 1.]]],\n",
      "\n",
      "\n",
      "        [[[1., 0., 0., 0., 0.],\n",
      "          [1., 1., 0., 0., 0.],\n",
      "          [1., 1., 1., 0., 0.],\n",
      "          [0., 0., 0., 0., 0.],\n",
      "          [0., 0., 0., 0., 1.]]]])\n"
     ]
    }
   ],
   "source": [
    "import torch\n",
    "\n",
    "def build_batched_causal_mask_from_attention_mask(attention_mask: torch.Tensor, dtype: torch.dtype = torch.float32):\n",
    "    \"\"\"\n",
    "    Creates a batched 4D causal mask from attention_mask where only elements with the same values in the attention_mask\n",
    "    can attend to each other, and elements with value 0 in the attention_mask are ignored.\n",
    "\n",
    "    Args:\n",
    "        attention_mask (torch.Tensor): A 2D tensor of shape (batch_size, sequence_length) with different values representing groups.\n",
    "        dtype (torch.dtype): Data type for the mask (default: torch.float32).\n",
    "\n",
    "    Returns:\n",
    "        causal_mask (torch.Tensor): A batched 4D causal mask of shape (batch_size, 1, sequence_length, sequence_length)\n",
    "                                    where elements with the same values in attention_mask can attend to each other,\n",
    "                                    and elements with value 0 are ignored.\n",
    "    \"\"\"\n",
    "    batch_size, seq_len = attention_mask.size()\n",
    "\n",
    "    # Create a base causal mask (lower triangular matrix), ensuring tokens can't attend to future tokens\n",
    "    causal_mask = torch.tril(torch.ones((seq_len, seq_len), dtype=dtype)).unsqueeze(0).expand(batch_size, -1, -1)\n",
    "\n",
    "    # Create a mask where elements with the same attention_mask values can attend to each other (for each batch)\n",
    "    same_value_mask = (attention_mask.unsqueeze(1) == attention_mask.unsqueeze(2)).to(dtype)\n",
    "\n",
    "    # Create a mask to ignore elements with value 0 in the attention_mask (for each batch)\n",
    "    non_zero_mask = (attention_mask != 0).unsqueeze(1).to(dtype)  # Mask where 1 indicates non-zero elements\n",
    "\n",
    "    # Combine the causal mask with the same-value mask (element-wise multiplication)\n",
    "    combined_mask = causal_mask * same_value_mask\n",
    "\n",
    "    # Apply the non-zero mask to ignore tokens with attention_mask value 0\n",
    "    combined_mask = combined_mask * non_zero_mask * non_zero_mask.transpose(1, 2)\n",
    "\n",
    "    # Expand the mask to 4D with the second dimension as 1\n",
    "    combined_mask = combined_mask.unsqueeze(1)\n",
    "\n",
    "    return combined_mask\n",
    "\n",
    "# Example usage:\n",
    "batch_attention_mask = torch.tensor([\n",
    "    [1, 1, 0, 2, 3],  # Batch 1\n",
    "    [2, 2, 2, 0, 1],  # Batch 2\n",
    "])  # Shape: [batch_size=2, seq_len=5]\n",
    "\n",
    "causal_mask = build_batched_causal_mask_from_attention_mask(batch_attention_mask)\n",
    "\n",
    "print(causal_mask.shape)  # Should be [batch_size=2, 1, seq_len=5, seq_len=5]\n",
    "print(causal_mask)"
   ]
  },
  {
   "cell_type": "code",
   "execution_count": 14,
   "metadata": {},
   "outputs": [
    {
     "data": {
      "text/plain": [
       "torch.Size([2, 5, 5])"
      ]
     },
     "execution_count": 14,
     "metadata": {},
     "output_type": "execute_result"
    }
   ],
   "source": [
    "causal_mask.shape"
   ]
  },
  {
   "cell_type": "code",
   "execution_count": null,
   "metadata": {},
   "outputs": [],
   "source": []
  }
 ],
 "metadata": {
  "kernelspec": {
   "display_name": "Python 3",
   "language": "python",
   "name": "python3"
  },
  "language_info": {
   "codemirror_mode": {
    "name": "ipython",
    "version": 3
   },
   "file_extension": ".py",
   "mimetype": "text/x-python",
   "name": "python",
   "nbconvert_exporter": "python",
   "pygments_lexer": "ipython3",
   "version": "3.12.4"
  }
 },
 "nbformat": 4,
 "nbformat_minor": 2
}
